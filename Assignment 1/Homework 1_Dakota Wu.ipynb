{
 "cells": [
  {
   "cell_type": "markdown",
   "metadata": {},
   "source": [
    "# Homework 1\n",
    "\n",
    "**Name:** Dakota Wu"
   ]
  },
  {
   "cell_type": "markdown",
   "metadata": {},
   "source": [
    "## Q1. PY4E Chapter 2 Exercise 4\n",
    "\n",
    "Assume that we execute the following assignment statements:\n",
    "```\n",
    "width = 17\n",
    "height = 12.0\n",
    "```\n",
    "\n",
    "For each of the following expressions, write the value of the expression and the\n",
    "type (of the value of the expression).\n",
    "\n",
    "1. width//2\n",
    "\n",
    "2. width/2.0\n",
    "\n",
    "3. height/3\n",
    "\n",
    "4. 1 + 2 * 5\n",
    "\n",
    "Type your answer in this markdown cell, under this line: (You can create a new code cell to check your answers.)\n",
    "\n",
    "**A:** 1. 8 int 2. 8.5 float 3. 4.0 float 5. 11 int\n",
    "\n",
    "\n",
    "## Q2. PY4E Chapter 2 Exercise 5\n",
    "\n",
    "Write a program which prompts the user for a Celsius temperature, convert the temperature to Fahrenheit, and print out the\n",
    "converted temperature.\n",
    "\n",
    "Write your code in the code cell below.\n"
   ]
  },
  {
   "cell_type": "code",
   "execution_count": 1,
   "metadata": {},
   "outputs": [
    {
     "name": "stdout",
     "output_type": "stream",
     "text": [
      "Enter temperature in Celsius: 38\n",
      "The temperature in Fahrenheit is: 100.4\n"
     ]
    }
   ],
   "source": [
    "C = float(input('Enter temperature in Celsius: '))\n",
    "F = C*1.8 + 32\n",
    "print(f'The temperature in Fahrenheit is: {F}')"
   ]
  },
  {
   "cell_type": "markdown",
   "metadata": {},
   "source": [
    "## Q3. PY4E Chapter 3 Exercise 1\n",
    "\n",
    "Write a program to prompt the user for hours and rate per hour to compute gross pay. Hours worked above 40 should be paid at a rate of 1.5 times the normal hourly rate.\n",
    "\n",
    "```\n",
    "Enter Hours: 45\n",
    "Enter Rate: 10\n",
    "Pay: 475.0\n",
    "```\n",
    "\n",
    "Write your code in the code cell below."
   ]
  },
  {
   "cell_type": "code",
   "execution_count": 2,
   "metadata": {},
   "outputs": [
    {
     "name": "stdout",
     "output_type": "stream",
     "text": [
      "Enter Hours; 45\n",
      "Enter Rate: 10\n",
      "Pay: 475.0\n"
     ]
    }
   ],
   "source": [
    "Hours = float(input('Enter Hours; '))\n",
    "Rate = float(input('Enter Rate: '))\n",
    "if Hours<=40:\n",
    "    print(f'Pay: {Hours*Rate}')\n",
    "else:\n",
    "    print(f'Pay: {40*Rate+(Hours-40)*Rate*1.5}')"
   ]
  },
  {
   "cell_type": "markdown",
   "metadata": {},
   "source": [
    "## Q4. PY4E Chapter 3 Exercise 2\n",
    "Rewrite your pay program (in Q3) using try and except so that your\n",
    "program handles non-numeric input gracefully by printing a message\n",
    "and exiting the program (for instructions on try and except, see PY4E section 3.7 or Google \"Python try and except\"; learning new commands on your own by reading documentation is a valuable skill that this class gives you the opportunity to practice). The following shows two executions of the\n",
    "program:\n",
    "\n",
    "```\n",
    "Enter Hours: 20\n",
    "Enter Rate: nine\n",
    "Error, please enter numeric input\n",
    "\n",
    "Enter Hours: forty\n",
    "Error, please enter numeric input\n",
    "```\n",
    "\n",
    "Write your code in the code cell below."
   ]
  },
  {
   "cell_type": "code",
   "execution_count": 3,
   "metadata": {},
   "outputs": [
    {
     "name": "stdout",
     "output_type": "stream",
     "text": [
      "Enter Hours; forty\n",
      "Error, please enter numeric input\n"
     ]
    }
   ],
   "source": [
    "try:\n",
    "    Hours = float(input('Enter Hours; '))\n",
    "    Rate = float(input('Enter Rate: '))\n",
    "    if Hours<=40:\n",
    "        print(f'Pay: {Hours*Rate}')\n",
    "    else:\n",
    "        print(f'Pay: {40*Rate+(Hours-40)*Rate*1.5}')\n",
    "except:\n",
    "    print('Error, please enter numeric input')"
   ]
  },
  {
   "cell_type": "markdown",
   "metadata": {},
   "source": [
    "## Q5. PY4E Chapter 3 Exercise 3\n",
    "\n",
    "Write a program to prompt for a score between 0.0 and\n",
    "1.0. If the score is out of range, print an error message. If the score is\n",
    "between 0.0 and 1.0, print a grade using the following table:\n",
    "\n",
    "|Score | Grade |\n",
    "| -- | -- |\n",
    "|>= 0.9 | A  |\n",
    "|>= 0.8 | B |\n",
    "|>= 0.7 | C |\n",
    "| >= 0.6 | D |\n",
    "| < 0.6 | F |\n",
    "\n",
    "```\n",
    "Enter score: 0.95\n",
    "A\n",
    "Enter score: perfect\n",
    "Bad score\n",
    "Enter score: 10.0\n",
    "Bad score\n",
    "Enter score: 0.75\n",
    "C\n",
    "Enter score: 0.5\n",
    "F\n",
    "```\n",
    "\n",
    "Run the program repeatedly as shown above to test the various different values for\n",
    "input.\n",
    "\n",
    "Write your code in the code cell below."
   ]
  },
  {
   "cell_type": "code",
   "execution_count": 4,
   "metadata": {},
   "outputs": [
    {
     "name": "stdout",
     "output_type": "stream",
     "text": [
      "Enter score: 10\n",
      "Bad score\n"
     ]
    }
   ],
   "source": [
    "try:\n",
    "    score = float(input('Enter score: '))\n",
    "    if 0<=score<=1:\n",
    "        if score>=0.9:\n",
    "            print('A')\n",
    "        if score>=0.8:\n",
    "            print('B')\n",
    "        if score>=0.7:\n",
    "            print('C')\n",
    "        if score>=0.6:\n",
    "            print('D')\n",
    "        else:\n",
    "            print('F')\n",
    "    else:\n",
    "        print('Bad score')\n",
    "except:\n",
    "    print('Bad score')"
   ]
  },
  {
   "cell_type": "markdown",
   "metadata": {},
   "source": [
    "## Q6. PY4E Chapter 4 Exercise 6\n",
    "Rewrite your pay computation in Q4 by creating a function called `computepay` which takes two parameters\n",
    "(`hours` and `rate`).\n",
    "\n",
    "Write your code in the code cell below."
   ]
  },
  {
   "cell_type": "code",
   "execution_count": 5,
   "metadata": {},
   "outputs": [
    {
     "name": "stdout",
     "output_type": "stream",
     "text": [
      "Enter Hours: 45\n",
      "Enter Rate: 10\n",
      "Pay:  475.0\n"
     ]
    }
   ],
   "source": [
    "def computepay(hours,rate):\n",
    "    if hours<=40:\n",
    "        pay=hours*rate\n",
    "    else:\n",
    "        pay=40*rate+(hours-40)*rate*1.5\n",
    "    return pay\n",
    "\n",
    "try:\n",
    "    hours=float(input('Enter Hours: '))\n",
    "    rate=float(input('Enter Rate: '))   \n",
    "    success=True\n",
    "except:\n",
    "    print('Error, please enter numeric input')\n",
    "    success=False\n",
    "if success:\n",
    "    print('Pay: ',computepay(hours,rate))"
   ]
  },
  {
   "cell_type": "markdown",
   "metadata": {},
   "source": [
    "## Q7. PY4E Chapter 4 Exercise 7\n",
    "\n",
    "Rewrite the grade program from Q5 using a function called `computegrade` that takes a `score` as its parameter and returns a `grade` as a string.\n",
    "\n",
    "Write your code in the code cell below."
   ]
  },
  {
   "cell_type": "code",
   "execution_count": 6,
   "metadata": {},
   "outputs": [
    {
     "name": "stdout",
     "output_type": "stream",
     "text": [
      "Enter score: -1\n",
      "Bad score\n"
     ]
    }
   ],
   "source": [
    "def computegrade(score):\n",
    "    try:\n",
    "        score=float(score)\n",
    "        success=True\n",
    "    except:\n",
    "        grade='Bad score'\n",
    "        success=False\n",
    "    if success:\n",
    "        if score>1 or score<0:\n",
    "            grade='Bad score'\n",
    "        elif score>=0.9:\n",
    "            grade='A'\n",
    "        elif score>=0.8:\n",
    "            grade='B'\n",
    "        elif score>=0.7:\n",
    "            grade='C'\n",
    "        elif score>=0.6:\n",
    "            grade='D'\n",
    "        else:\n",
    "            grade='F'\n",
    "    return grade\n",
    "\n",
    "userInput=input('Enter score: ')\n",
    "print(computegrade(userInput))"
   ]
  },
  {
   "cell_type": "code",
   "execution_count": null,
   "metadata": {},
   "outputs": [],
   "source": []
  }
 ],
 "metadata": {
  "kernelspec": {
   "display_name": "Python 3",
   "language": "python",
   "name": "python3"
  },
  "language_info": {
   "codemirror_mode": {
    "name": "ipython",
    "version": 3
   },
   "file_extension": ".py",
   "mimetype": "text/x-python",
   "name": "python",
   "nbconvert_exporter": "python",
   "pygments_lexer": "ipython3",
   "version": "3.7.3"
  }
 },
 "nbformat": 4,
 "nbformat_minor": 2
}
