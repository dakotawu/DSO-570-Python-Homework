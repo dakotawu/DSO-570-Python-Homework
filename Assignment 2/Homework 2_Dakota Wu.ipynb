{
 "cells": [
  {
   "cell_type": "markdown",
   "metadata": {},
   "source": [
    "# Homework 2\n",
    "\n",
    "**Name:** Dakota Wu\n",
    "\n",
    "\n",
    "## Q1. PY4E Chapter 5 Exercise 1\n",
    "\n",
    "Write a program which repeatedly reads numbers until the\n",
    "user enters \"done\". Once \"done\" is entered, print out the total, count, average of the numbers. If the user enters anything other than a\n",
    "number, detect their mistake using try and except and print an error\n",
    "message and skip to the next number. See sample run below.\n",
    "\n",
    "```\n",
    "Enter a number: 4\n",
    "Enter a number: 5\n",
    "Enter a number: bad data\n",
    "Invalid input\n",
    "Enter a number: 7\n",
    "Enter a number: done\n",
    "Output:\n",
    "\ttotal: 16.0,\n",
    "\tcount: 3,\n",
    "\taverage (2 decimal places): 5.33.\n",
    "```\n",
    "\n",
    "Write your code in the code cell below."
   ]
  },
  {
   "cell_type": "code",
   "execution_count": 1,
   "metadata": {},
   "outputs": [
    {
     "name": "stdout",
     "output_type": "stream",
     "text": [
      "Enter a number: 4\n",
      "Enter a number: 5\n",
      "Enter a number: bad data\n",
      "Invalid input\n",
      "Enter a number: 7\n",
      "Enter a number: done\n",
      "Output:\n",
      "\ttotal: 16.0,\n",
      "\tcount: 3,\n",
      "\taverage (2 decimal places): 5.33.\n"
     ]
    }
   ],
   "source": [
    "total = 0\n",
    "count = 0 \n",
    "average = 0\n",
    "\n",
    "while True:                                   ## while True means loop forever\n",
    "    number = input('Enter a number: ')\n",
    "    if number == 'done':\n",
    "        break\n",
    "    else: \n",
    "        try:\n",
    "            number = float(number)\n",
    "            success = True\n",
    "        except:\n",
    "            print('Invalid input')\n",
    "            success = False\n",
    "        if success:\n",
    "            total = total + number\n",
    "            count = count + 1\n",
    "            average = round(total/count, 2)\n",
    "\n",
    "print(f'Output:\\n\\ttotal: {total},\\n\\tcount: {count},\\n\\taverage (2 decimal places): {average}.')"
   ]
  },
  {
   "cell_type": "markdown",
   "metadata": {},
   "source": [
    "### Q2. BMI Calculator\n",
    "\n",
    "Write a program which asks users to input their weight (in lbs) and height (in inches), and compute their body mass index (BMI), which is defind as $BMI=\\frac{W}{H^2}$, where $W$ is their weight converted to kg, and $H$ is their height converted to m. (Assume 1 kg=2.205 lbs, and 1 m = 39.37 inches.) Finally, classify their BMI according to the following chart. \n",
    "\n",
    "|Classification | BMI ($kg/m^2$) |\n",
    "|--|--|\n",
    "|Underweight: | <18.5 |\n",
    "|Normal: | 18.5 to 25 (>=18.5 but <25) |\n",
    "|Overweight: | 25 to 30 (>=25 but <30) |\n",
    "|Obese: | >=30 |\n",
    "\n",
    "The program should ensure that the weight and height the user inputs are positive numbers. If the user does not input a number, then the program should print the message `\"Invalid. Input must be a number.\"` If the user inputs a negative number or zero, the program should print the message `\"Invalid. Input must be positive.\"` See sample run below.\n",
    "\n",
    "```\n",
    "Please input your weight (in lbs): thirty\n",
    "Invalid. Input must be a number.\n",
    "Please input your weight (in lbs): 143\n",
    "Please input your height (in inches): 5'11''\n",
    "Invalid. Input must be a number.\n",
    "Please input your height (in inches): 71\n",
    "According to the above chart, your BMI is 19.94 which is normal.\n",
    "```"
   ]
  },
  {
   "cell_type": "code",
   "execution_count": 2,
   "metadata": {},
   "outputs": [
    {
     "name": "stdout",
     "output_type": "stream",
     "text": [
      "Please input your weight (in lbs): 143\n"
     ]
    }
   ],
   "source": [
    "# Get weight\n",
    "\n",
    "while True:\n",
    "    weight = input('Please input your weight (in lbs): ')\n",
    "    try:\n",
    "        weight = float(weight)\n",
    "        success = True\n",
    "    except:\n",
    "        print('Invalid. Input must be a number.')\n",
    "        success = False\n",
    "    if success:\n",
    "        if weight > 0:\n",
    "            break\n",
    "        else:\n",
    "            print('Invalid. Input must be positive.')"
   ]
  },
  {
   "cell_type": "code",
   "execution_count": 3,
   "metadata": {},
   "outputs": [
    {
     "name": "stdout",
     "output_type": "stream",
     "text": [
      "Please input your height (in inches): 5'11''\n",
      "Invalid. Input must be a number.\n",
      "Please input your height (in inches): 71\n"
     ]
    }
   ],
   "source": [
    "# Get height\n",
    "\n",
    "while True:\n",
    "    height = input('Please input your height (in inches): ')\n",
    "    try:\n",
    "        height = float(height)\n",
    "        success = True\n",
    "    except:\n",
    "        print('Invalid. Input must be a number.')\n",
    "        success = False\n",
    "    if success:\n",
    "        if height > 0:\n",
    "            break\n",
    "        else:\n",
    "            print('Invalid. Input must be positive.')"
   ]
  },
  {
   "cell_type": "code",
   "execution_count": 4,
   "metadata": {},
   "outputs": [
    {
     "name": "stdout",
     "output_type": "stream",
     "text": [
      "19.94\n"
     ]
    }
   ],
   "source": [
    "# Calculate BMI\n",
    "\n",
    "weight_kg = weight/2.205\n",
    "height_m = height/39.37\n",
    "BMI = round(weight_kg/(height_m**2),2)\n",
    "print(BMI)"
   ]
  },
  {
   "cell_type": "code",
   "execution_count": 5,
   "metadata": {},
   "outputs": [
    {
     "name": "stdout",
     "output_type": "stream",
     "text": [
      "According to the above chart, your BMI is 19.94 which is normal.\n"
     ]
    }
   ],
   "source": [
    "# Classify BMI\n",
    "\n",
    "if BMI < 18.5:\n",
    "    print(f'According to the above chart, your BMI is {BMI} which is underweight.')\n",
    "elif BMI < 25:\n",
    "    print(f'According to the above chart, your BMI is {BMI} which is normal.')\n",
    "elif BMI < 30:\n",
    "    print(f'According to the above chart, your BMI is {BMI} which is overweight.') \n",
    "else: \n",
    "    print(f'According to the above chart, your BMI is {BMI} which is obese.')"
   ]
  },
  {
   "cell_type": "code",
   "execution_count": 6,
   "metadata": {},
   "outputs": [
    {
     "name": "stdout",
     "output_type": "stream",
     "text": [
      "Please input your weight (in lbs): 143\n",
      "Please input your height (in inches): 71\n",
      "According to the above chart, your BMI is 19.94 which is normal.\n"
     ]
    }
   ],
   "source": [
    "# Combine everything together (Can I put weight and height in one while loop???)\n",
    "\n",
    "while True:\n",
    "    weight = input('Please input your weight (in lbs): ')\n",
    "    try:\n",
    "        weight = float(weight)\n",
    "        success = True\n",
    "    except:\n",
    "        print('Invalid. Input must be a number.')\n",
    "        success = False\n",
    "    if success:\n",
    "        if weight > 0:\n",
    "            break\n",
    "        else:\n",
    "            print('Invalid. Input must be positive.')\n",
    "\n",
    "while True:\n",
    "    height = input('Please input your height (in inches): ')\n",
    "    try:\n",
    "        height = float(height)\n",
    "        success = True\n",
    "    except:\n",
    "        print('Invalid. Input must be a number.')\n",
    "        success = False\n",
    "    if success:\n",
    "        if height > 0:\n",
    "            break\n",
    "        else:\n",
    "            print('Invalid. Input must be positive.')\n",
    "\n",
    "weight_kg = weight/2.205\n",
    "height_m = height/39.37\n",
    "BMI = round(weight_kg/(height_m**2),2)\n",
    "\n",
    "if BMI < 18.5:\n",
    "    print(f'According to the above chart, your BMI is {BMI} which is underweight.')\n",
    "elif BMI < 25:\n",
    "    print(f'According to the above chart, your BMI is {BMI} which is normal.')\n",
    "elif BMI < 30:\n",
    "    print(f'According to the above chart, your BMI is {BMI} which is overweight.') \n",
    "else: \n",
    "    print(f'According to the above chart, your BMI is {BMI} which is obese.')"
   ]
  },
  {
   "cell_type": "markdown",
   "metadata": {},
   "source": [
    "## Q3. Estimating Time of Selling Out\n",
    "\n",
    "Suppose that there are limited number of tickets to an event and your goal is to estimate how many weeks before the tickets will be sold out. \n",
    "\n",
    "Write a function `sellOutTime` with two input arguments:\n",
    "\n",
    "- `demand`: a list of positive integers, representing the forecasted demand in each week.\n",
    "- `inventory`: an integer denoting the initial supply of tickets.\n",
    "\n",
    "The function should return the week in which tickets will sell out. For example, if `demand=[50,80,89]` (representing a demand of 50 in week 1, 80 in week 2, and 90 in week 3), then \n",
    "\n",
    "- if initial inventory is 10, the tickets will sell out in week 1. (Function returns 1.)\n",
    "- if initial inventory is 50, the function should still return 1.\n",
    "- if initial inventory is 60, function should return 2. (Because supply lasts into week 2.)\n",
    "- if initial inventory is 300, function should return 4. (Supply lasts even after the 3 weeks are over.)\n"
   ]
  },
  {
   "cell_type": "code",
   "execution_count": 7,
   "metadata": {},
   "outputs": [],
   "source": [
    "def sellOutTime(demand,inventory):\n",
    "    i=1\n",
    "    for num in demand:\n",
    "        inventory-=num\n",
    "        if inventory<=0:\n",
    "            break\n",
    "        i+=1\n",
    "    return i"
   ]
  },
  {
   "cell_type": "markdown",
   "metadata": {},
   "source": [
    "The following code illustrates the use of the function after you complete it."
   ]
  },
  {
   "cell_type": "code",
   "execution_count": 8,
   "metadata": {},
   "outputs": [
    {
     "name": "stdout",
     "output_type": "stream",
     "text": [
      "With initial inventory 10  supply will last until week 1\n",
      "With initial inventory 50  supply will last until week 1\n",
      "With initial inventory 60  supply will last until week 2\n",
      "With initial inventory 130  supply will last until week 2\n",
      "With initial inventory 220  supply will last until week 4\n",
      "With initial inventory 500  supply will last until week 6\n",
      "With initial inventory 1000  supply will last until week 9\n"
     ]
    }
   ],
   "source": [
    "demand=[50,80,89,100,120,140,100,80]\n",
    "for inventory in [10,50,60,130,220,500,1000]:\n",
    "    print('With initial inventory',inventory,' supply will last until week',sellOutTime(demand,inventory))"
   ]
  },
  {
   "cell_type": "markdown",
   "metadata": {},
   "source": [
    "## Q4. Forecasting Harvard Tuition\n",
    "\n",
    "An **exponential smoothing** forecast is given by \n",
    "\n",
    "$$ F_1 = A_0, $$\n",
    "\n",
    "$$ F_t = \\alpha A_{t-1} + (1-\\alpha) F_{t-1} \\quad \\mbox{ for } t > 1, $$\n",
    "\n",
    "where\n",
    "- $\\alpha \\in (0,1]$ is the smoothing constant chosen by the user. \n",
    "- $A_t$ is the actual value for time period $t = 0, 1, ...$, \n",
    "- $F_t$ is the forecast for time period $t = 1, ...$. (Note that there is no $F_0$ because no forecast is available for the initial period $t=0$.)\n",
    "\n",
    "The file `HWK2-tuition.csv` contains the historical tuition for Harvard MBA from 1985-2017. (Data source: https://www.kaggle.com/harvard-university/harvard-tuition) The following code illustrates how to read the data using pandas and iterate over the columns. You may want to look up the `pandas.DataFrame.loc` and `pandas.DataFrame.iloc` commands.\n",
    "\n",
    "```python\n",
    "import pandas as pd\n",
    "tuition=pd.read_csv('HWK2-tuition.csv',index_col=0)\n",
    "\n",
    "for year in tuition.index:\n",
    "    tuition.loc[year,'Tuition']\n",
    "```\n",
    "\n",
    "Write a program that applies exponential smoothing to forecast the tuition of Harvard's MBA program in 2018 using $\\alpha=0.8$, as well as the mean absolute deviation of the forecast since the year 2000, as defined by the average value of $|F_t-A_t|$ as time ranges from the year 2000 to the last year in the data. \n"
   ]
  },
  {
   "cell_type": "code",
   "execution_count": 9,
   "metadata": {},
   "outputs": [
    {
     "data": {
      "text/html": [
       "<div>\n",
       "<style scoped>\n",
       "    .dataframe tbody tr th:only-of-type {\n",
       "        vertical-align: middle;\n",
       "    }\n",
       "\n",
       "    .dataframe tbody tr th {\n",
       "        vertical-align: top;\n",
       "    }\n",
       "\n",
       "    .dataframe thead th {\n",
       "        text-align: right;\n",
       "    }\n",
       "</style>\n",
       "<table border=\"1\" class=\"dataframe\">\n",
       "  <thead>\n",
       "    <tr style=\"text-align: right;\">\n",
       "      <th></th>\n",
       "      <th>Tuition</th>\n",
       "    </tr>\n",
       "    <tr>\n",
       "      <th>Year</th>\n",
       "      <th></th>\n",
       "    </tr>\n",
       "  </thead>\n",
       "  <tbody>\n",
       "    <tr>\n",
       "      <th>2013</th>\n",
       "      <td>53500</td>\n",
       "    </tr>\n",
       "    <tr>\n",
       "      <th>2014</th>\n",
       "      <td>56175</td>\n",
       "    </tr>\n",
       "    <tr>\n",
       "      <th>2015</th>\n",
       "      <td>58875</td>\n",
       "    </tr>\n",
       "    <tr>\n",
       "      <th>2016</th>\n",
       "      <td>61225</td>\n",
       "    </tr>\n",
       "    <tr>\n",
       "      <th>2017</th>\n",
       "      <td>63675</td>\n",
       "    </tr>\n",
       "  </tbody>\n",
       "</table>\n",
       "</div>"
      ],
      "text/plain": [
       "      Tuition\n",
       "Year         \n",
       "2013    53500\n",
       "2014    56175\n",
       "2015    58875\n",
       "2016    61225\n",
       "2017    63675"
      ]
     },
     "execution_count": 9,
     "metadata": {},
     "output_type": "execute_result"
    }
   ],
   "source": [
    "import pandas as pd\n",
    "tuition=pd.read_csv('HWK2-tuition.csv',index_col=0)\n",
    "tuition.tail()"
   ]
  },
  {
   "cell_type": "code",
   "execution_count": 10,
   "metadata": {},
   "outputs": [
    {
     "name": "stdout",
     "output_type": "stream",
     "text": [
      "The forecasted tuition of Harvard MBA program in 2018 using alpha = 0.8 is $63064.18.\n"
     ]
    }
   ],
   "source": [
    "# Predict tuition in 2018\n",
    "\n",
    "alpha = 0.8\n",
    "F = {1985:tuition.loc[1985,'Tuition']}\n",
    "F_lastyear = F[1985]\n",
    "for year in tuition.index:\n",
    "    A = tuition.loc[year,'Tuition']\n",
    "    F_thisyear = round(alpha*A + (1-alpha)*F_lastyear, 2)\n",
    "    F[year+1] = F_thisyear\n",
    "    F_lastyear = F_thisyear\n",
    "print(f'The forecasted tuition of Harvard MBA program in 2018 using alpha = 0.8 is ${F[2018]}.')"
   ]
  },
  {
   "cell_type": "code",
   "execution_count": 11,
   "metadata": {},
   "outputs": [
    {
     "name": "stdout",
     "output_type": "stream",
     "text": [
      "The mean absolute error of the forecast since Year 2000 is $2577.42.\n"
     ]
    }
   ],
   "source": [
    "# Calculate the mean deviation\n",
    "\n",
    "Error = 0\n",
    "for year in range(2000, tuition.index[-1]+1):\n",
    "    Forecast = F[year]\n",
    "    Actual = tuition.loc[year,'Tuition']\n",
    "    Error = Error + abs(Forecast - Actual)\n",
    "Mean = round(Error/(tuition.index[-1]+1-2000),2)\n",
    "print(f'The mean absolute error of the forecast since Year 2000 is ${Mean}.')"
   ]
  },
  {
   "cell_type": "code",
   "execution_count": null,
   "metadata": {},
   "outputs": [],
   "source": []
  }
 ],
 "metadata": {
  "kernelspec": {
   "display_name": "Python 3",
   "language": "python",
   "name": "python3"
  },
  "language_info": {
   "codemirror_mode": {
    "name": "ipython",
    "version": 3
   },
   "file_extension": ".py",
   "mimetype": "text/x-python",
   "name": "python",
   "nbconvert_exporter": "python",
   "pygments_lexer": "ipython3",
   "version": "3.7.3"
  }
 },
 "nbformat": 4,
 "nbformat_minor": 2
}
