{
 "cells": [
  {
   "cell_type": "markdown",
   "metadata": {},
   "source": [
    "# Homework 3\n",
    "\n",
    "**Name:** Dakota Wu\n",
    "\n",
    "The problems in this homework do not require complex commands, but require you to exercise algorithmic thinking. It is recommended that you follow the four step method (Describe, Decompose, Translate, and Combine) when solving the problems, and to build up the solution incrementally instead of writing a function to start off."
   ]
  },
  {
   "cell_type": "markdown",
   "metadata": {},
   "source": [
    "## Q1. Optimal Stocking Level\n",
    "\n",
    "Write a function named `optBaseStock` with four input arguments:\n",
    "\n",
    "- `levelList`: a list of possible stocking levels to optimize over (which can be a `range` instead of a `list`).\n",
    "- `demandList`: a list of demand scenarios. \n",
    "- `underage`: the unit cost of having too little inventory to meet demand.\n",
    "- `overage`: the unit cost of having too much inventory.\n",
    "\n",
    "The function should iterate through the possible stocking levels in `levelList`, and print one line giving the average inventory cost for that stocking level. For a given stocking level, the average inventory cost is defined as the average over all demand scenarios of the total underage cost plus the total overage cost. \n",
    "\n",
    "For example, if the stocking level is 10, and the demand scenarios are `[6,12,14]`, and the parameters `underage=9`, `overrage=5`. Then the inventory cost for the scenario `demand=6` is $(10-6)\\times 5=20$, because the inventory level is 4 units too high. (The overage cost of 5/unit is applied when inventory is too high). The inventory cost for the scenario `demand=12` is $(12-10)\\times 9=18$, because the inventory level is 2 units too low. (The underage cost of 9/unit is applied when the inventory is too low.) The inventory cost for the scenario `demand=14` is $(14-10)\\times 9=36$, because the inventory level is 4 units too low. The average inventory cost for stocking level 10 is $(20+18+36)/3=74/3\\approx 24.67$.  \n",
    "\n",
    "The function should return two objects. The first object is the stocking level that achieves the minimal average inventory cost (if there is a tie, return the smallest stocking level yielding the minimal cost). The second object is a dictionary mapping each inventory level to the average inventory cost for that stocking level. "
   ]
  },
  {
   "cell_type": "code",
   "execution_count": 1,
   "metadata": {},
   "outputs": [],
   "source": [
    "# Describe: Find the average inventory cost for each inventory level and pick the one yield the minimal cost "
   ]
  },
  {
   "cell_type": "code",
   "execution_count": 2,
   "metadata": {},
   "outputs": [],
   "source": [
    "# Decompose:\n",
    "# Step 1: Loop through the demand list, calculate average inventory cost for one inventory level\n",
    "# Step 2: Loop through the level list, calculate average inventory cost for all inventory levels \n",
    "# Step 3: Find the inventory level yielding the minimal cost"
   ]
  },
  {
   "cell_type": "code",
   "execution_count": 3,
   "metadata": {},
   "outputs": [],
   "source": [
    "# Translate:"
   ]
  },
  {
   "cell_type": "code",
   "execution_count": 4,
   "metadata": {},
   "outputs": [
    {
     "name": "stdout",
     "output_type": "stream",
     "text": [
      "{20: 33.4}\n"
     ]
    }
   ],
   "source": [
    "# Step 1: Loop through the demand list, calculate average inventory cost for one inventory level 20\n",
    "\n",
    "demandList=[10,18,5,20,16,30,15,3,5,10]\n",
    "levelList=20\n",
    "underage=10\n",
    "overage=3\n",
    "\n",
    "overcost=0\n",
    "undercost=0\n",
    "cost={}\n",
    "for demand in demandList:\n",
    "    if levelList>demand: \n",
    "        overcost+=overage*(levelList-demand)\n",
    "    else:\n",
    "        undercost+=underage*(demand-levelList)\n",
    "    avgcost=(overcost+undercost)/len(demandList)\n",
    "cost[levelList]=avgcost\n",
    "print(cost)"
   ]
  },
  {
   "cell_type": "code",
   "execution_count": 5,
   "metadata": {},
   "outputs": [
    {
     "name": "stdout",
     "output_type": "stream",
     "text": [
      "{0: 132.0, 5: 84.6, 10: 54.1, 15: 36.6, 20: 33.4, 25: 41.9}\n"
     ]
    }
   ],
   "source": [
    "# Step 2: Loop through the level list, calculate average inventory cost for all inventory levels \n",
    "\n",
    "demandList=[10,18,5,20,16,30,15,3,5,10]\n",
    "levelList=range(0,30,5)\n",
    "underage=10\n",
    "overage=3\n",
    "cost={}\n",
    "\n",
    "for inventory in levelList:\n",
    "    overcost=0\n",
    "    undercost=0\n",
    "    for demand in demandList:\n",
    "        if inventory>demand:\n",
    "            overcost+=overage*(inventory-demand)\n",
    "        else:\n",
    "            undercost+=underage*(demand-inventory)\n",
    "        avgcost=(overcost+undercost)/len(demandList)\n",
    "    cost[inventory]=avgcost\n",
    "print(cost)"
   ]
  },
  {
   "cell_type": "code",
   "execution_count": 6,
   "metadata": {},
   "outputs": [
    {
     "data": {
      "text/plain": [
       "18"
      ]
     },
     "execution_count": 6,
     "metadata": {},
     "output_type": "execute_result"
    }
   ],
   "source": [
    "# Step 3: Find the inventory level yielding the minimal cost\n",
    "\n",
    "cost = {0: 132.0, 5: 84.6, 10: 54.1, 15: 36.6, 20: 33.4, 25: 41.9,18: 33.4}\n",
    "min(cost.items(), key=lambda x: (x[1],x[0]))[0]"
   ]
  },
  {
   "cell_type": "code",
   "execution_count": 7,
   "metadata": {},
   "outputs": [],
   "source": [
    "# Combine everything together:\n",
    "# By default, if there's a tie, min() will return the value with smaller index. But here if there's a tie, we want python to return the \n",
    "# value of lower inventory, so we specify a second sorting criteria\n",
    "\n",
    "def optBaseStock(levelList,demandList,underage,overage):\n",
    "    cost={}\n",
    "    for inventory in levelList:\n",
    "        overcost=0\n",
    "        undercost=0\n",
    "        for demand in demandList:\n",
    "            if inventory>demand:\n",
    "                overcost+=overage*(inventory-demand)\n",
    "            else:\n",
    "                undercost+=underage*(demand-inventory)\n",
    "            avgcost=(overcost+undercost)/len(demandList)\n",
    "        cost[inventory]=avgcost\n",
    "    bestLevel = min(cost.items(),key=lambda x:(x[1],x[0]))[0]\n",
    "    return bestLevel,cost"
   ]
  },
  {
   "cell_type": "code",
   "execution_count": 8,
   "metadata": {},
   "outputs": [
    {
     "name": "stdout",
     "output_type": "stream",
     "text": [
      "Best inventory level: 20\n",
      "Inventory level: average inventory cost\n",
      "{0: 132.0, 5: 84.6, 10: 54.1, 15: 36.6, 20: 33.4, 25: 41.9}\n"
     ]
    }
   ],
   "source": [
    "demandList=[10,18,5,20,16,30,15,3,5,10]\n",
    "levelList=range(0,30,5)\n",
    "underage=10\n",
    "overage=3\n",
    "\n",
    "bestLevel,cost=optBaseStock(levelList,demandList,underage,overage)\n",
    "print(f'Best inventory level: {bestLevel}\\nInventory level: average inventory cost\\n{cost}')"
   ]
  },
  {
   "cell_type": "markdown",
   "metadata": {},
   "source": [
    "The following code illustrates the use of the function (after you complete the function). (Hint: it may be easiest to write another function which calculates the average inventory cost given a particular stocking level, so that `optBaseStock` can simply call this other function to compute the average inventory cost for each stocking level.)"
   ]
  },
  {
   "cell_type": "code",
   "execution_count": 9,
   "metadata": {},
   "outputs": [
    {
     "data": {
      "image/png": "[encoded data removed]",
      "text/plain": [
       "<Figure size 432x288 with 1 Axes>"
      ]
     },
     "metadata": {
      "needs_background": "light"
     },
     "output_type": "display_data"
    }
   ],
   "source": [
    "demandList=[10,18,5,20,16,30,15,3,5,10]\n",
    "levelList=range(0,30,5)\n",
    "underage=10\n",
    "overage=3\n",
    "bestLevel,cost=optBaseStock(levelList,demandList,underage,overage)\n",
    "\n",
    "import matplotlib.pyplot as plt\n",
    "levelList=sorted(levelList)\n",
    "costList=[cost[level] for level in levelList]\n",
    "plt.plot(levelList,costList)\n",
    "plt.plot([bestLevel],[cost[bestLevel]],'ro')\n",
    "plt.title(f'Optimal stocking level is {bestLevel} with cost {round(cost[bestLevel],2)}')\n",
    "plt.xlabel('Stocking level')\n",
    "plt.ylabel('Average inventory cost')\n",
    "plt.ylim(bottom=0)\n",
    "plt.show()"
   ]
  },
  {
   "cell_type": "markdown",
   "metadata": {},
   "source": [
    "## Q2. Demand Estimation with N substitutable products\n",
    "\n",
    "This exercise generalizes Case 9 to $n$ products, where $n$ is any positive integer.\n",
    "\n",
    "Write a function called `demand` with two input arguments:\n",
    "\n",
    "- `prices`: a list of $n$ prices, one for each product. \n",
    "- `values`: a list in which each element represents a customer and is a list of length $n$, which corresponds to the customer's valuation for each of the $n$ products.\n",
    "\n",
    "The function should return a list of length $n$ representing the number of each product sold. You should assume that each customer:\n",
    "\n",
    "- Does not purchase anything if his/her valuation for each product is strictly less than its price.\n",
    "- Otherwise, purchase the product in which the difference between his/her valuation and the price is the largest. When there is a tie, the customer will purchase the product with the smaller index. \n",
    "\n",
    "For example, if `prices=[10,8,12]`, then\n",
    "\n",
    "- A customer with valuations `[9,7,11]` purchases nothing.\n",
    "- A customer with valuations `[10,8,12]` purchases product 0.\n",
    "- A customer with valuations `[9,8,12]` purchases product 1.\n",
    "- A customer with valuations `[9,8,13]` purchases product 2."
   ]
  },
  {
   "cell_type": "code",
   "execution_count": 10,
   "metadata": {},
   "outputs": [],
   "source": [
    "# Describe: For each customer, find what product he/she will buy"
   ]
  },
  {
   "cell_type": "code",
   "execution_count": 11,
   "metadata": {},
   "outputs": [],
   "source": [
    "# Decompose:\n",
    "# Step 1: Loop through values (aka.customers)\n",
    "# Step 2: Find out which product a customer buys \n",
    "# Step 3: Keep track of numbers of purchasing for all the products"
   ]
  },
  {
   "cell_type": "code",
   "execution_count": 12,
   "metadata": {},
   "outputs": [],
   "source": [
    "# Translate:"
   ]
  },
  {
   "cell_type": "code",
   "execution_count": 13,
   "metadata": {
    "scrolled": true
   },
   "outputs": [
    {
     "name": "stdout",
     "output_type": "stream",
     "text": [
      "[9, 7, 11]\n",
      "[10, 8, 12]\n",
      "[9, 8, 12]\n",
      "[9, 8, 13]\n"
     ]
    }
   ],
   "source": [
    "# Step 1: Loop through values (aka.customers)\n",
    "\n",
    "values=[[9,7,11],[10,8,12],[9,8,12],[9,8,13]]\n",
    "for customer in values:\n",
    "    print(customer)"
   ]
  },
  {
   "cell_type": "code",
   "execution_count": 14,
   "metadata": {},
   "outputs": [
    {
     "name": "stdout",
     "output_type": "stream",
     "text": [
      "Purchase nothing\n"
     ]
    }
   ],
   "source": [
    "# Step 2: Find out which product a customer buys \n",
    "\n",
    "prices=[10,8,12]\n",
    "values=[9,7,11]\n",
    "\n",
    "diff={}\n",
    "for i in range(0,len(prices)):\n",
    "    diff[i]=values[i]-prices[i]\n",
    "maximum=max(diff.items(),key=lambda x:x[1])\n",
    "\n",
    "if maximum[1]<0:\n",
    "    print(\"Purchase nothing\")\n",
    "else:\n",
    "    print(f'Purchase product {maximum[0]}')"
   ]
  },
  {
   "cell_type": "code",
   "execution_count": 15,
   "metadata": {},
   "outputs": [
    {
     "data": {
      "text/plain": [
       "[0, 0, 0]"
      ]
     },
     "execution_count": 15,
     "metadata": {},
     "output_type": "execute_result"
    }
   ],
   "source": [
    "# Step 3: Keep track of numbers of purchasing for all the products\n",
    "count=[0]*len(prices)\n",
    "count"
   ]
  },
  {
   "cell_type": "code",
   "execution_count": 16,
   "metadata": {},
   "outputs": [],
   "source": [
    "# Combine everything together:\n",
    "\n",
    "def demand(prices,values):\n",
    "    count=[0]*len(prices)\n",
    "    for customer in values:\n",
    "        diff={}\n",
    "        for i in range(0,len(prices)):\n",
    "            diff[i]=customer[i]-prices[i]\n",
    "            maximum=max(diff.items(),key=lambda x:x[1])\n",
    "        if maximum[1]>=0:\n",
    "            count[maximum[0]]+=1\n",
    "        else:\n",
    "            continue \n",
    "    return count"
   ]
  },
  {
   "cell_type": "markdown",
   "metadata": {},
   "source": [
    "The following code can be used to test your function."
   ]
  },
  {
   "cell_type": "code",
   "execution_count": 17,
   "metadata": {
    "scrolled": true
   },
   "outputs": [
    {
     "name": "stdout",
     "output_type": "stream",
     "text": [
      "Demand for product 0 : 1\n",
      "Demand for product 1 : 1\n",
      "Demand for product 2 : 1\n"
     ]
    }
   ],
   "source": [
    "prices=[10,8,12]\n",
    "values=[[9,7,11],[10,8,12],[9,8,12],[9,8,13]]\n",
    "ans=demand(prices,values)\n",
    "for i in range(len(prices)):\n",
    "    print('Demand for product',i,':',ans[i])"
   ]
  },
  {
   "cell_type": "code",
   "execution_count": 18,
   "metadata": {},
   "outputs": [
    {
     "name": "stdout",
     "output_type": "stream",
     "text": [
      "Demand for product 0 : 3\n",
      "Demand for product 1 : 1\n",
      "Demand for product 2 : 1\n"
     ]
    }
   ],
   "source": [
    "prices=[20,15,30]\n",
    "values=[[30,30,20],[40,10,15],[18,13,29],[40,30,50],[10,30,50],[10,10,10],[20,15,30]]\n",
    "ans=demand(prices,values)\n",
    "for i in range(len(prices)):\n",
    "    print('Demand for product',i,':',ans[i])"
   ]
  },
  {
   "cell_type": "markdown",
   "metadata": {},
   "source": [
    "## Q3. Simulating Availabilities of Hospital Beds\n",
    "\n",
    "One challenge in health care operations is to forecast the number of hospital beds that are available at a given time, since patients admitted in the past may stay for several days and the number of beds are limited. If no more beds are available, then incoming patients may need to be turned away.\n",
    "\n",
    "Write a function called `admissionSimulation` with three input arguments:\n",
    "\n",
    "- `demand`: a list of positive integers representing the number of incoming patients desiring a hospital bed in each day. (The first number corresponds to day 0, the second number to day 1, and so on.)\n",
    "- `beds`: a positive integer representing the total number of hospital beds available.\n",
    "- `stay`: a positive integer representing the number of days each admitted patient will stay. If `stay=1`, then every admitted patient leaves before any incoming patients arrive the next day. If `stay=2`, then each patient admitted on day $t$ will occupy a bed also for day $t+1$, and only leave before incoming patients arrive on day $t+2$.\n",
    "\n",
    "The function should return a list `admissionRecord`, corresponding to the number of incoming patients admitted on each day. \n",
    "\n"
   ]
  },
  {
   "cell_type": "code",
   "execution_count": 19,
   "metadata": {},
   "outputs": [],
   "source": [
    "# Describe: keep track of the number of patients admitted every day, based on patient demand and beds available in the hospital\n",
    "# WIll the patients being turned away get admitted next day if there are available beds??? (currently assume no)"
   ]
  },
  {
   "cell_type": "code",
   "execution_count": 20,
   "metadata": {},
   "outputs": [],
   "source": [
    "# Decompose:\n",
    "# Step 1: Starting at day n, calculate total number of patients in the hospital \n",
    "# Step 2: Calculate # of available beds in the hospital \n",
    "# Step 3: Compare # of available beds to demand everyday, decide how many patients will get admitted "
   ]
  },
  {
   "cell_type": "code",
   "execution_count": 21,
   "metadata": {},
   "outputs": [],
   "source": [
    "def admissionSimulation(demand,beds,stay):\n",
    "    totalPatients=0\n",
    "    admitted=[]\n",
    "    for i in range(len(demand)):\n",
    "        if (i-stay)>=0:\n",
    "            totalPatients-=admitted[i-stay]\n",
    "        availableBeds=max(0,beds-totalPatients)\n",
    "        admitted.append(min(availableBeds,demand[i]))\n",
    "        totalPatients+=admitted[i]\n",
    "    return admitted"
   ]
  },
  {
   "cell_type": "code",
   "execution_count": 22,
   "metadata": {},
   "outputs": [
    {
     "name": "stdout",
     "output_type": "stream",
     "text": [
      "On day 0 demand is 1 and 1 patients were admitted.\n",
      "On day 1 demand is 2 and 1 patients were admitted.\n",
      "On day 2 demand is 1 and 1 patients were admitted.\n",
      "On day 3 demand is 0 and 0 patients were admitted.\n",
      "On day 4 demand is 2 and 2 patients were admitted.\n",
      "On day 5 demand is 3 and 0 patients were admitted.\n"
     ]
    }
   ],
   "source": [
    "demand=[1,2,1,0,2,3]\n",
    "beds=2\n",
    "stay=2\n",
    "admissionRecord=admissionSimulation(demand,beds,stay)\n",
    "for i in range(len(demand)):\n",
    "    print('On day',i,'demand is',demand[i],'and',admissionRecord[i],'patients were admitted.')"
   ]
  },
  {
   "cell_type": "code",
   "execution_count": 23,
   "metadata": {},
   "outputs": [
    {
     "name": "stdout",
     "output_type": "stream",
     "text": [
      "On day 0 demand is 5 and 5 patients were admitted.\n",
      "On day 1 demand is 8 and 2 patients were admitted.\n",
      "On day 2 demand is 6 and 0 patients were admitted.\n",
      "On day 3 demand is 8 and 5 patients were admitted.\n",
      "On day 4 demand is 4 and 2 patients were admitted.\n",
      "On day 5 demand is 4 and 0 patients were admitted.\n",
      "On day 6 demand is 8 and 5 patients were admitted.\n",
      "On day 7 demand is 6 and 2 patients were admitted.\n",
      "On day 8 demand is 1 and 0 patients were admitted.\n"
     ]
    }
   ],
   "source": [
    "demand=[5,8,6,8,4,4,8,6,1]\n",
    "beds=7\n",
    "stay=3\n",
    "admissionRecord=admissionSimulation(demand,beds,stay)\n",
    "for i in range(len(demand)):\n",
    "    print('On day',i,'demand is',demand[i],'and',admissionRecord[i],'patients were admitted.')"
   ]
  },
  {
   "cell_type": "code",
   "execution_count": null,
   "metadata": {},
   "outputs": [],
   "source": []
  }
 ],
 "metadata": {
  "kernelspec": {
   "display_name": "Python 3",
   "language": "python",
   "name": "python3"
  },
  "language_info": {
   "codemirror_mode": {
    "name": "ipython",
    "version": 3
   },
   "file_extension": ".py",
   "mimetype": "text/x-python",
   "name": "python",
   "nbconvert_exporter": "python",
   "pygments_lexer": "ipython3",
   "version": "3.7.3"
  }
 },
 "nbformat": 4,
 "nbformat_minor": 2
}
